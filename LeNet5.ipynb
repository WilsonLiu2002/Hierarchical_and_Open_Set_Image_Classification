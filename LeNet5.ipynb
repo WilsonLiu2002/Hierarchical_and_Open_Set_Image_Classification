{
 "cells": [
  {
   "cell_type": "code",
   "id": "198c699a-e1e8-4f8b-8cd5-98a1d05f7ec3",
   "metadata": {
    "ExecuteTime": {
     "end_time": "2025-05-13T11:24:37.852325Z",
     "start_time": "2025-05-13T11:24:35.514693Z"
    }
   },
   "source": [
    "import os\n",
    "import random\n",
    "import matplotlib.pyplot as plt\n",
    "import numpy as np\n",
    "import pandas as pd\n",
    "\n",
    "import torch\n",
    "import torch.nn as nn\n",
    "import torch.nn.functional as F\n",
    "import torch.optim as optim\n",
    "\n",
    "import torchvision\n",
    "\n",
    "from torch.utils.data import Dataset, DataLoader, BatchSampler, random_split\n",
    "from torchvision import transforms\n",
    "from PIL import Image"
   ],
   "outputs": [],
   "execution_count": 1
  },
  {
   "cell_type": "code",
   "id": "c370d643-46fd-4d03-bb17-a875e79d5e2c",
   "metadata": {
    "ExecuteTime": {
     "end_time": "2025-05-13T11:24:39.317720Z",
     "start_time": "2025-05-13T11:24:39.313063Z"
    }
   },
   "source": [
    "# Create Dataset class for multilabel classification\n",
    "class MultiClassImageDataset(Dataset):\n",
    "    def __init__(self, ann_df, super_map_df, sub_map_df, img_dir, transform=None):\n",
    "        self.ann_df = ann_df \n",
    "        self.super_map_df = super_map_df\n",
    "        self.sub_map_df = sub_map_df\n",
    "        self.img_dir = img_dir\n",
    "        self.transform = transform\n",
    "\n",
    "    def __len__(self):\n",
    "        return len(self.ann_df)\n",
    "\n",
    "    def __getitem__(self, idx):\n",
    "        img_name = self.ann_df['image'][idx]\n",
    "        img_path = os.path.join(self.img_dir, img_name)\n",
    "        image = Image.open(img_path).convert('RGB')\n",
    "        \n",
    "        super_idx = self.ann_df['superclass_index'][idx]\n",
    "        super_label = self.super_map_df['class'][super_idx]\n",
    "        \n",
    "        sub_idx = self.ann_df['subclass_index'][idx]\n",
    "        sub_label = self.sub_map_df['class'][sub_idx]\n",
    "        \n",
    "        if self.transform:\n",
    "            image = self.transform(image)  \n",
    "            \n",
    "        return image, super_idx, super_label, sub_idx, sub_label\n",
    "\n",
    "class MultiClassImageTestDataset(Dataset):\n",
    "    def __init__(self, super_map_df, sub_map_df, img_dir, transform=None):\n",
    "        self.super_map_df = super_map_df\n",
    "        self.sub_map_df = sub_map_df\n",
    "        self.img_dir = img_dir\n",
    "        self.transform = transform\n",
    "\n",
    "    def __len__(self): # Count files in img_dir\n",
    "        return len([fname for fname in os.listdir(self.img_dir)])\n",
    "\n",
    "    def __getitem__(self, idx):\n",
    "        img_name = str(idx) + '.jpg'\n",
    "        img_path = os.path.join(self.img_dir, img_name)\n",
    "        image = Image.open(img_path).convert('RGB')\n",
    "        \n",
    "        if self.transform:\n",
    "            image = self.transform(image)  \n",
    "            \n",
    "        return image, img_name"
   ],
   "outputs": [],
   "execution_count": 2
  },
  {
   "cell_type": "code",
   "id": "e7398553-8842-4ad8-b348-767921a22482",
   "metadata": {
    "ExecuteTime": {
     "end_time": "2025-05-13T11:25:23.711162Z",
     "start_time": "2025-05-13T11:25:23.693141Z"
    }
   },
   "source": [
    "train_ann_df = pd.read_csv('./data/train_data.csv')\n",
    "#test_ann_df = pd.read_csv('./data/example_test_predictions.csv')\n",
    "super_map_df = pd.read_csv('./data/superclass_mapping.csv')\n",
    "sub_map_df = pd.read_csv('./data/subclass_mapping.csv')\n",
    "\n",
    "train_img_dir = './data/train_images'\n",
    "test_img_dir = './data/test_images'\n",
    "\n",
    "image_preprocessing = transforms.Compose([\n",
    "    transforms.ToTensor(),\n",
    "    transforms.Normalize(mean=(0.485, 0.456, 0.406),\n",
    "                         std=(0.229, 0.224, 0.225)),\n",
    "])\n",
    "\n",
    "# Create train and val split\n",
    "train_dataset = MultiClassImageDataset(train_ann_df, super_map_df, sub_map_df, train_img_dir, transform=image_preprocessing)\n",
    "train_dataset, val_dataset = random_split(train_dataset, [0.9, 0.1]) \n",
    "\n",
    "# Create test dataset\n",
    "test_dataset = MultiClassImageTestDataset(super_map_df, sub_map_df, test_img_dir, transform=image_preprocessing)\n",
    "\n",
    "# Create dataloaders\n",
    "batch_size = 64\n",
    "train_loader = DataLoader(train_dataset, \n",
    "                          batch_size=batch_size, \n",
    "                          shuffle=True)\n",
    "\n",
    "val_loader = DataLoader(val_dataset, \n",
    "                        batch_size=batch_size, \n",
    "                        shuffle=True)\n",
    "\n",
    "test_loader = DataLoader(test_dataset, \n",
    "                         batch_size=1, \n",
    "                         shuffle=False)"
   ],
   "outputs": [],
   "execution_count": 4
  },
  {
   "cell_type": "code",
   "id": "bf33a131-0c66-40dc-b8d4-ba5d0f840840",
   "metadata": {
    "ExecuteTime": {
     "end_time": "2025-05-13T11:26:09.879064Z",
     "start_time": "2025-05-13T11:26:09.868640Z"
    }
   },
   "source": [
    "class LeNet5MultiOutput(nn.Module):\n",
    "    def __init__(self):\n",
    "        super(LeNet5MultiOutput, self).__init__()\n",
    "\n",
    "        # Block 1: Conv1 + ReLU + AvgPool\n",
    "        self.block1 = nn.Sequential(\n",
    "            nn.Conv2d(3, 6, kernel_size=5, stride=1, padding=2),  # (B, 3, 64, 64) → (B, 6, 64, 64)\n",
    "            nn.ReLU(),\n",
    "            nn.AvgPool2d(kernel_size=2, stride=2)                 # → (B, 6, 32, 32)\n",
    "        )\n",
    "\n",
    "        # Block 2: Conv2 + ReLU + AvgPool\n",
    "        self.block2 = nn.Sequential(\n",
    "            nn.Conv2d(6, 16, kernel_size=5, stride=1),            # (B, 6, 32, 32) → (B, 16, 28, 28)\n",
    "            nn.ReLU(),\n",
    "            nn.AvgPool2d(kernel_size=2, stride=2)                 # → (B, 16, 14, 14)\n",
    "        )\n",
    "\n",
    "        # Block 3: Fully connected + 2 classification heads\n",
    "        self.fc1 = nn.Linear(16 * 14 * 14, 120)\n",
    "        self.fc2 = nn.Linear(120, 84)\n",
    "        self.fc3a = nn.Linear(84, 4)   # Super-class output (bird, dog, reptile, novel)\n",
    "        self.fc3b = nn.Linear(84, 88)  # Sub-class output (87 known + 1 novel)\n",
    "\n",
    "    def forward(self, x):\n",
    "        x = self.block1(x)            # → (B, 6, 32, 32)\n",
    "        x = self.block2(x)            # → (B, 16, 14, 14)\n",
    "        x = torch.flatten(x, 1)       # → (B, 3136)\n",
    "        x = F.relu(self.fc1(x))       # → (B, 120)\n",
    "        x = F.relu(self.fc2(x))       # → (B, 84)\n",
    "        super_out = self.fc3a(x)      # → (B, 4)\n",
    "        sub_out = self.fc3b(x)        # → (B, 88)\n",
    "        return super_out, sub_out\n",
    "\n",
    "class Trainer():\n",
    "    def __init__(self, model, criterion, optimizer, train_loader, val_loader, test_loader=None, device=None):\n",
    "        self.device = device\n",
    "        self.model = model\n",
    "        self.criterion = criterion\n",
    "        self.optimizer = optimizer\n",
    "        self.train_loader = train_loader\n",
    "        self.val_loader = val_loader\n",
    "        self.test_loader = test_loader\n",
    "\n",
    "    def train_epoch(self):\n",
    "        running_loss = 0.0\n",
    "        for i, data in enumerate(self.train_loader):\n",
    "            inputs, super_labels, sub_labels = data[0].to(self.device), data[1].to(self.device), data[3].to(self.device)\n",
    "\n",
    "            self.optimizer.zero_grad()\n",
    "            super_outputs, sub_outputs = self.model(inputs)\n",
    "            loss = self.criterion(super_outputs, super_labels) + self.criterion(sub_outputs, sub_labels)\n",
    "            loss.backward()\n",
    "            optimizer.step()\n",
    "\n",
    "            running_loss += loss.item()\n",
    "\n",
    "        print(f'Training loss: {running_loss/i:.3f}')\n",
    "\n",
    "    def validate_epoch(self):\n",
    "        super_correct = 0\n",
    "        sub_correct = 0\n",
    "        total = 0\n",
    "        running_loss = 0.0\n",
    "        with torch.no_grad():\n",
    "            for i, data in enumerate(self.val_loader):\n",
    "                inputs, super_labels, sub_labels = data[0].to(self.device), data[1].to(self.device), data[3].to(self.device)\n",
    "\n",
    "                super_outputs, sub_outputs = self.model(inputs)\n",
    "                loss = self.criterion(super_outputs, super_labels) + self.criterion(sub_outputs, sub_labels)\n",
    "                _, super_predicted = torch.max(super_outputs.data, 1)\n",
    "                _, sub_predicted = torch.max(sub_outputs.data, 1)\n",
    "\n",
    "                total += super_labels.size(0)\n",
    "                super_correct += (super_predicted == super_labels).sum().item()\n",
    "                sub_correct += (sub_predicted == sub_labels).sum().item()\n",
    "                running_loss += loss.item()\n",
    "\n",
    "        print(f'Validation loss: {running_loss/i:.3f}')\n",
    "        print(f'Validation superclass acc: {100 * super_correct / total:.2f} %')\n",
    "        print(f'Validation subclass acc: {100 * sub_correct / total:.2f} %')\n",
    "\n",
    "    def test(self, save_to_csv=False, return_predictions=False):\n",
    "        if not self.test_loader:\n",
    "            raise NotImplementedError('test_loader not specified')\n",
    "\n",
    "        # Evaluate on test set, in this simple demo no special care is taken for novel/unseen classes\n",
    "        test_predictions = {'image': [], 'superclass_index': [], 'subclass_index': []}\n",
    "        with torch.no_grad():\n",
    "            for i, data in enumerate(self.test_loader):\n",
    "                inputs, img_name = data[0].to(self.device), data[1]\n",
    "\n",
    "                super_outputs, sub_outputs = self.model(inputs)\n",
    "                _, super_predicted = torch.max(super_outputs.data, 1)\n",
    "                _, sub_predicted = torch.max(sub_outputs.data, 1)\n",
    "\n",
    "                test_predictions['image'].append(img_name[0])\n",
    "                test_predictions['superclass_index'].append(super_predicted.item())\n",
    "                test_predictions['subclass_index'].append(sub_predicted.item())\n",
    "\n",
    "        test_predictions = pd.DataFrame(data=test_predictions)\n",
    "\n",
    "        if save_to_csv:\n",
    "            test_predictions.to_csv('./test_predictions/LeNet5_test_predictions.csv', index=False)\n",
    "\n",
    "        if return_predictions:\n",
    "            return test_predictions"
   ],
   "outputs": [],
   "execution_count": 10
  },
  {
   "metadata": {
    "ExecuteTime": {
     "end_time": "2025-05-13T11:26:13.104183Z",
     "start_time": "2025-05-13T11:26:13.101176Z"
    }
   },
   "cell_type": "code",
   "source": [
    "if torch.cuda.is_available():\n",
    "    device = torch.device(\"cuda\")\n",
    "elif torch.backends.mps.is_available():\n",
    "    device = torch.device(\"mps\")\n",
    "else:\n",
    "    device = torch.device(\"cpu\")"
   ],
   "id": "ddf97eb82f24dd5a",
   "outputs": [],
   "execution_count": 11
  },
  {
   "cell_type": "code",
   "id": "ebdf524a-98bf-4d0b-9b63-2b2b7b87daa1",
   "metadata": {
    "ExecuteTime": {
     "end_time": "2025-05-13T11:26:21.292909Z",
     "start_time": "2025-05-13T11:26:21.210720Z"
    }
   },
   "source": [
    "# Init model and trainer\n",
    "model = LeNet5MultiOutput().to(device)\n",
    "criterion = nn.CrossEntropyLoss()\n",
    "optimizer = optim.Adam(model.parameters(), lr=1e-3)\n",
    "trainer = Trainer(model, criterion, optimizer, train_loader, val_loader, test_loader, device)"
   ],
   "outputs": [],
   "execution_count": 12
  },
  {
   "cell_type": "code",
   "id": "7941c289-d9b1-4714-b788-898b3b889f58",
   "metadata": {
    "ExecuteTime": {
     "end_time": "2025-05-13T11:27:20.195197Z",
     "start_time": "2025-05-13T11:26:34.261915Z"
    }
   },
   "source": [
    "# Training loop\n",
    "for epoch in range(20):\n",
    "    print(f'Epoch {epoch+1}')\n",
    "    trainer.train_epoch()\n",
    "    trainer.validate_epoch()\n",
    "    print('')\n",
    "\n",
    "print('Finished Training')"
   ],
   "outputs": [
    {
     "name": "stdout",
     "output_type": "stream",
     "text": [
      "Epoch 1\n",
      "Training loss: 4.685\n",
      "Validation loss: 4.062\n",
      "Validation superclass acc: 82.80 %\n",
      "Validation subclass acc: 15.45 %\n",
      "\n",
      "Epoch 2\n",
      "Training loss: 3.005\n",
      "Validation loss: 3.145\n",
      "Validation superclass acc: 85.99 %\n",
      "Validation subclass acc: 31.37 %\n",
      "\n",
      "Epoch 3\n",
      "Training loss: 2.122\n",
      "Validation loss: 2.301\n",
      "Validation superclass acc: 92.20 %\n",
      "Validation subclass acc: 47.77 %\n",
      "\n",
      "Epoch 4\n",
      "Training loss: 1.583\n",
      "Validation loss: 1.995\n",
      "Validation superclass acc: 92.99 %\n",
      "Validation subclass acc: 53.82 %\n",
      "\n",
      "Epoch 5\n",
      "Training loss: 1.238\n",
      "Validation loss: 1.806\n",
      "Validation superclass acc: 94.75 %\n",
      "Validation subclass acc: 56.53 %\n",
      "\n",
      "Epoch 6\n",
      "Training loss: 0.991\n",
      "Validation loss: 1.802\n",
      "Validation superclass acc: 93.31 %\n",
      "Validation subclass acc: 60.67 %\n",
      "\n",
      "Epoch 7\n",
      "Training loss: 0.788\n",
      "Validation loss: 1.764\n",
      "Validation superclass acc: 94.11 %\n",
      "Validation subclass acc: 60.03 %\n",
      "\n",
      "Epoch 8\n",
      "Training loss: 0.632\n",
      "Validation loss: 1.802\n",
      "Validation superclass acc: 94.43 %\n",
      "Validation subclass acc: 59.87 %\n",
      "\n",
      "Epoch 9\n",
      "Training loss: 0.482\n",
      "Validation loss: 1.707\n",
      "Validation superclass acc: 94.75 %\n",
      "Validation subclass acc: 63.69 %\n",
      "\n",
      "Epoch 10\n",
      "Training loss: 0.360\n",
      "Validation loss: 1.911\n",
      "Validation superclass acc: 93.63 %\n",
      "Validation subclass acc: 61.15 %\n",
      "\n",
      "Epoch 11\n",
      "Training loss: 0.272\n",
      "Validation loss: 1.989\n",
      "Validation superclass acc: 94.75 %\n",
      "Validation subclass acc: 60.51 %\n",
      "\n",
      "Epoch 12\n",
      "Training loss: 0.197\n",
      "Validation loss: 1.978\n",
      "Validation superclass acc: 95.54 %\n",
      "Validation subclass acc: 62.10 %\n",
      "\n",
      "Epoch 13\n",
      "Training loss: 0.175\n",
      "Validation loss: 2.039\n",
      "Validation superclass acc: 94.43 %\n",
      "Validation subclass acc: 64.33 %\n",
      "\n",
      "Epoch 14\n",
      "Training loss: 0.114\n",
      "Validation loss: 2.399\n",
      "Validation superclass acc: 94.43 %\n",
      "Validation subclass acc: 61.78 %\n",
      "\n",
      "Epoch 15\n",
      "Training loss: 0.085\n",
      "Validation loss: 2.103\n",
      "Validation superclass acc: 95.06 %\n",
      "Validation subclass acc: 64.33 %\n",
      "\n",
      "Epoch 16\n",
      "Training loss: 0.045\n",
      "Validation loss: 2.404\n",
      "Validation superclass acc: 94.90 %\n",
      "Validation subclass acc: 64.49 %\n",
      "\n",
      "Epoch 17\n",
      "Training loss: 0.024\n",
      "Validation loss: 2.339\n",
      "Validation superclass acc: 94.90 %\n",
      "Validation subclass acc: 64.97 %\n",
      "\n",
      "Epoch 18\n",
      "Training loss: 0.013\n",
      "Validation loss: 2.335\n",
      "Validation superclass acc: 94.90 %\n",
      "Validation subclass acc: 67.52 %\n",
      "\n",
      "Epoch 19\n",
      "Training loss: 0.007\n",
      "Validation loss: 2.448\n",
      "Validation superclass acc: 94.75 %\n",
      "Validation subclass acc: 67.99 %\n",
      "\n",
      "Epoch 20\n",
      "Training loss: 0.004\n",
      "Validation loss: 2.472\n",
      "Validation superclass acc: 94.90 %\n",
      "Validation subclass acc: 67.52 %\n",
      "\n",
      "Finished Training\n"
     ]
    }
   ],
   "execution_count": 13
  },
  {
   "cell_type": "code",
   "id": "16d17e37-1a08-4ae1-8517-a16ff4769622",
   "metadata": {
    "ExecuteTime": {
     "end_time": "2025-05-10T20:09:29.905256Z",
     "start_time": "2025-05-10T20:09:29.903798Z"
    }
   },
   "source": [],
   "outputs": [],
   "execution_count": null
  },
  {
   "cell_type": "code",
   "id": "6ab70fb9-6e14-49f1-b9bb-5f3da6807399",
   "metadata": {
    "ExecuteTime": {
     "end_time": "2025-05-10T20:09:29.923808Z",
     "start_time": "2025-05-10T20:09:29.922391Z"
    }
   },
   "source": [],
   "outputs": [],
   "execution_count": null
  },
  {
   "cell_type": "code",
   "id": "698f0ba0-08ef-4093-a154-65d735174a25",
   "metadata": {
    "ExecuteTime": {
     "end_time": "2025-05-10T20:09:29.943690Z",
     "start_time": "2025-05-10T20:09:29.942250Z"
    }
   },
   "source": [],
   "outputs": [],
   "execution_count": null
  },
  {
   "cell_type": "code",
   "id": "a6d43947-4569-4920-929b-c997be9def58",
   "metadata": {
    "ExecuteTime": {
     "end_time": "2025-05-10T20:09:29.962883Z",
     "start_time": "2025-05-10T20:09:29.961428Z"
    }
   },
   "source": [],
   "outputs": [],
   "execution_count": null
  },
  {
   "cell_type": "code",
   "id": "61d77cbe-3ba1-46e9-9be1-208b9cabab0b",
   "metadata": {
    "ExecuteTime": {
     "end_time": "2025-05-13T11:28:40.029506Z",
     "start_time": "2025-05-13T11:28:19.326729Z"
    }
   },
   "source": [
    "test_predictions = trainer.test(save_to_csv=True, return_predictions=True)"
   ],
   "outputs": [],
   "execution_count": 14
  },
  {
   "cell_type": "code",
   "execution_count": null,
   "id": "4ed6dd55-94ab-41a9-b09c-08d7b1ae0fe6",
   "metadata": {},
   "outputs": [],
   "source": []
  }
 ],
 "metadata": {
  "kernelspec": {
   "display_name": "Python 3 (ipykernel)",
   "language": "python",
   "name": "python3"
  },
  "language_info": {
   "codemirror_mode": {
    "name": "ipython",
    "version": 3
   },
   "file_extension": ".py",
   "mimetype": "text/x-python",
   "name": "python",
   "nbconvert_exporter": "python",
   "pygments_lexer": "ipython3",
   "version": "3.10.13"
  }
 },
 "nbformat": 4,
 "nbformat_minor": 5
}
