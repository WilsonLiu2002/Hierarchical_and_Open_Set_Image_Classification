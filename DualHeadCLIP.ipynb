{
 "cells": [
  {
   "metadata": {},
   "cell_type": "code",
   "outputs": [],
   "execution_count": null,
   "source": "!pip install git+https://github.com/openai/CLIP.git",
   "id": "b2065971963bf86b"
  },
  {
   "metadata": {
    "id": "198c699a-e1e8-4f8b-8cd5-98a1d05f7ec3",
    "ExecuteTime": {
     "end_time": "2025-05-12T16:33:10.953639Z",
     "start_time": "2025-05-12T16:33:10.951453Z"
    }
   },
   "cell_type": "code",
   "outputs": [],
   "execution_count": 85,
   "source": [
    "import os\n",
    "import random\n",
    "import matplotlib.pyplot as plt\n",
    "import numpy as np\n",
    "import pandas as pd\n",
    "\n",
    "import torch\n",
    "import torch.nn as nn\n",
    "import torch.nn.functional as F\n",
    "import torch.optim as optim\n",
    "import clip\n",
    "\n",
    "import torchvision\n",
    "from torch.nn.functional import cross_entropy\n",
    "\n",
    "from torch.utils.data import Dataset, DataLoader, BatchSampler, random_split\n",
    "from torchvision import transforms\n",
    "from PIL import Image\n",
    "from tqdm import tqdm\n"
   ],
   "id": "198c699a-e1e8-4f8b-8cd5-98a1d05f7ec3"
  },
  {
   "cell_type": "code",
   "source": [
    "train_ann_df = pd.read_csv('./data/train_data.csv')\n",
    "novel_train_ann_df = pd.read_csv('./data/novel_train_data.csv')\n",
    "combined_df = pd.concat([train_ann_df, novel_train_ann_df], ignore_index=True)\n",
    "\n",
    "#test_ann_df = pd.read_csv('/content/drive/MyDrive/data/test_predictions.csv')\n",
    "super_map_df = pd.read_csv('./data/superclass_mapping.csv')\n",
    "sub_map_df = pd.read_csv('./data/subclass_mapping.csv')\n",
    "\n",
    "train_img_dir = './data/train_images'\n",
    "novel_img_dir = './data/synthetic_novel_resized'\n",
    "test_img_dir = './data/test_images'\n",
    "combined_dir = './data/combined_images'     # Folder contains both original training images and novel generated resized images"
   ],
   "metadata": {
    "id": "HV3SWd30iwl-",
    "ExecuteTime": {
     "end_time": "2025-05-13T04:10:42.079514Z",
     "start_time": "2025-05-13T04:10:42.061591Z"
    }
   },
   "id": "HV3SWd30iwl-",
   "outputs": [],
   "execution_count": 319
  },
  {
   "cell_type": "code",
   "id": "c370d643-46fd-4d03-bb17-a875e79d5e2c",
   "metadata": {
    "id": "c370d643-46fd-4d03-bb17-a875e79d5e2c",
    "ExecuteTime": {
     "end_time": "2025-05-13T04:11:20.258858Z",
     "start_time": "2025-05-13T04:11:20.252758Z"
    }
   },
   "source": [
    "# Create Dataset class for multilabel classification\n",
    "\n",
    "class MultiClassImageTrainDataset(Dataset):\n",
    "    def __init__(self, ann_df, super_map_df, sub_map_df, img_dir, transform=None):\n",
    "        self.ann_df = ann_df\n",
    "        self.super_map_df = super_map_df\n",
    "        self.sub_map_df = sub_map_df\n",
    "        self.img_dir = img_dir\n",
    "        self.transform = transform\n",
    "\n",
    "    def __len__(self):\n",
    "        return len(self.ann_df)\n",
    "\n",
    "    def __getitem__(self, idx):\n",
    "        img_name = self.ann_df['image'][idx]\n",
    "        img_path = os.path.join(self.img_dir, img_name)\n",
    "        image = Image.open(img_path).convert('RGB')\n",
    "\n",
    "        super_idx = self.ann_df['superclass_index'][idx]\n",
    "        super_label = self.super_map_df['class'][super_idx]\n",
    "\n",
    "        sub_idx = self.ann_df['subclass_index'][idx]\n",
    "        sub_label = self.sub_map_df['class'][sub_idx]\n",
    "\n",
    "        description = self.ann_df['description'][idx]\n",
    "\n",
    "        if self.transform:\n",
    "            image = self.transform(image)\n",
    "\n",
    "\n",
    "        return image, super_idx, super_label, sub_idx, sub_label, description\n",
    "\n",
    "class MultiClassImageTestDataset(Dataset):\n",
    "    def __init__(self, super_map_df, sub_map_df, img_dir, transform=None):\n",
    "        self.super_map_df = super_map_df\n",
    "        self.sub_map_df = sub_map_df\n",
    "        self.img_dir = img_dir\n",
    "        self.transform = transform\n",
    "\n",
    "    def __len__(self): # Count files in img_dir\n",
    "        return len([fname for fname in os.listdir(self.img_dir)])\n",
    "\n",
    "    def __getitem__(self, idx):\n",
    "        img_name = str(idx) + '.jpg'\n",
    "        img_path = os.path.join(self.img_dir, img_name)\n",
    "        image = Image.open(img_path).convert('RGB')\n",
    "\n",
    "        if self.transform:\n",
    "            image = self.transform(image)\n",
    "\n",
    "        return image, img_name"
   ],
   "outputs": [],
   "execution_count": 321
  },
  {
   "cell_type": "code",
   "source": [
    "# Create LightWeightAdapter class\n",
    "\n",
    "class LightWeightAdapter(nn.Module):\n",
    "    def __init__(self, input_dim=512, hidden_dim=128):\n",
    "        super().__init__()\n",
    "        self.adapter = nn.Sequential(\n",
    "            nn.Linear(input_dim, hidden_dim),\n",
    "            nn.ReLU(),\n",
    "            nn.Linear(hidden_dim, input_dim)\n",
    "        )\n",
    "\n",
    "    def forward(self, x):\n",
    "        return self.adapter(x) + x    # residual connection"
   ],
   "metadata": {
    "id": "Kjni7bQ8FWUo",
    "ExecuteTime": {
     "end_time": "2025-05-13T04:11:22.784640Z",
     "start_time": "2025-05-13T04:11:22.781543Z"
    }
   },
   "id": "Kjni7bQ8FWUo",
   "outputs": [],
   "execution_count": 322
  },
  {
   "cell_type": "code",
   "id": "bf33a131-0c66-40dc-b8d4-ba5d0f840840",
   "metadata": {
    "id": "bf33a131-0c66-40dc-b8d4-ba5d0f840840",
    "ExecuteTime": {
     "end_time": "2025-05-13T10:00:27.253542Z",
     "start_time": "2025-05-13T10:00:27.246821Z"
    }
   },
   "source": [
    "# Create Dual HeadCLIP class\n",
    "\n",
    "class DualHeadCLIP(nn.Module):\n",
    "    def __init__(self, clip_model, adapter, super_head, sub_head, criterion, optimizer,\n",
    "                 train_loader, val_loader, test_loader=None, device=None):\n",
    "        super().__init__()\n",
    "        self.device = device\n",
    "        self.clip_model = clip_model.to(self.device)\n",
    "        self.adapter = adapter.to(self.device)\n",
    "        self.super_head = super_head.to(self.device)\n",
    "        self.sub_head = sub_head.to(self.device)\n",
    "        self.criterion = criterion\n",
    "        self.optimizer = optimizer\n",
    "        self.train_loader = train_loader\n",
    "        self.val_loader = val_loader\n",
    "        self.test_loader = test_loader\n",
    "\n",
    "    def train_epoch(self):\n",
    "        self.adapter.train()\n",
    "        self.super_head.train()\n",
    "        self.sub_head.train()\n",
    "        self.clip_model.eval() # Freeze CLIP\n",
    "\n",
    "        running_loss = 0.0\n",
    "        for i, data in enumerate(tqdm(self.train_loader, desc='Training')):\n",
    "            inputs, super_labels, sub_labels = data[0].to(self.device), data[1].to(self.device), data[3].to(self.device)\n",
    "\n",
    "            with torch.no_grad():\n",
    "                image_features = self.clip_model.encode_image(inputs).to(self.device).to(torch.float32)\n",
    "\n",
    "            adapted_features = self.adapter(image_features)\n",
    "            super_outputs = self.super_head(adapted_features)\n",
    "            sub_outputs = self.sub_head(adapted_features)\n",
    "\n",
    "            loss = self.criterion(super_outputs, super_labels) + self.criterion(sub_outputs, sub_labels)\n",
    "\n",
    "            self.optimizer.zero_grad()\n",
    "            loss.backward()\n",
    "            self.optimizer.step()\n",
    "\n",
    "            running_loss += loss.item()\n",
    "            #print(running_loss)\n",
    "\n",
    "        print(f'Training loss: {running_loss / (i + 1):.3f}')\n",
    "\n",
    "    def validate_epoch(self):\n",
    "        self.adapter.eval()\n",
    "        self.super_head.eval()\n",
    "        self.sub_head.eval()\n",
    "        self.clip_model.eval()\n",
    "\n",
    "        super_correct = 0\n",
    "        sub_correct = 0\n",
    "        total = 0\n",
    "        running_loss = 0.0\n",
    "\n",
    "        with torch.no_grad():\n",
    "            for i, data in enumerate(tqdm(self.val_loader, desc='Validating')):\n",
    "                inputs, super_labels, sub_labels = data[0].to(self.device), data[1].to(self.device), data[3].to(self.device)\n",
    "\n",
    "                image_features = self.clip_model.encode_image(inputs).to(self.device).to(torch.float32)\n",
    "\n",
    "                adapted_features = self.adapter(image_features)\n",
    "                super_outputs = self.super_head(adapted_features)\n",
    "                sub_outputs = self.sub_head(adapted_features)\n",
    "\n",
    "                loss = self.criterion(super_outputs, super_labels) + self.criterion(sub_outputs, sub_labels)\n",
    "\n",
    "                _, super_predicted = torch.max(super_outputs.data, 1)\n",
    "                _, sub_predicted = torch.max(sub_outputs.data, 1)\n",
    "\n",
    "                total += super_labels.size(0)\n",
    "                super_correct += (super_predicted == super_labels).sum().item()\n",
    "                sub_correct += (sub_predicted == sub_labels).sum().item()\n",
    "                running_loss += loss.item()\n",
    "\n",
    "\n",
    "        print(f'Validation loss: {running_loss / (i + 1):.3f}')\n",
    "        print(f'Validation superclass acc: {100 * super_correct / total:.2f} %')\n",
    "        print(f'Validation subclass acc: {100 * sub_correct / total:.2f} %')"
   ],
   "outputs": [],
   "execution_count": 421
  },
  {
   "metadata": {
    "ExecuteTime": {
     "end_time": "2025-05-13T10:00:30.725285Z",
     "start_time": "2025-05-13T10:00:30.720299Z"
    }
   },
   "cell_type": "code",
   "source": [
    "def test_dualheadclip(model, test_loader, SUPER_THRESH, SUB_THRESH, save_to_csv=False, return_predictions=False):\n",
    "    model.eval()\n",
    "    model.adapter.eval()\n",
    "    model.super_head.eval()\n",
    "    model.sub_head.eval()\n",
    "    model.clip_model.eval()\n",
    "\n",
    "    test_predictions = {'image': [], 'superclass_index': [], 'subclass_index': []}\n",
    "\n",
    "    with torch.no_grad():\n",
    "        for i, data in enumerate(tqdm(test_loader, desc='Testing')):\n",
    "            inputs, img_name = data[0].to(model.device), data[1]\n",
    "\n",
    "            image_features = model.clip_model.encode_image(inputs).to(model.device).to(torch.float32)\n",
    "            adapted_features = model.adapter(image_features)\n",
    "\n",
    "            super_outputs = model.super_head(adapted_features)\n",
    "            sub_outputs = model.sub_head(adapted_features)\n",
    "\n",
    "            super_probs = F.softmax(super_outputs, dim=1)\n",
    "            sub_probs = F.softmax(sub_outputs, dim=1)\n",
    "\n",
    "            super_conf, super_pred_head = torch.max(super_probs, dim=1)\n",
    "            sub_conf, sub_pred_head = torch.max(sub_probs, dim=1)\n",
    "\n",
    "            super_pred = torch.where(super_conf > SUPER_THRESH, super_pred_head, torch.tensor(3).to(model.device))\n",
    "            sub_pred = torch.where(sub_conf > SUB_THRESH, sub_pred_head, torch.tensor(87).to(model.device))\n",
    "\n",
    "            test_predictions['image'].append(img_name[0])\n",
    "            test_predictions['superclass_index'].append(super_pred.item())\n",
    "            test_predictions['subclass_index'].append(sub_pred.item())\n",
    "\n",
    "    test_predictions = pd.DataFrame(data=test_predictions)\n",
    "\n",
    "    if save_to_csv:\n",
    "        test_predictions.to_csv('./test_predictions/DualHeadCLIP_test_predictions.csv', index=False)\n",
    "\n",
    "    if return_predictions:\n",
    "        return test_predictions"
   ],
   "id": "3037e6d9161024a2",
   "outputs": [],
   "execution_count": 422
  },
  {
   "metadata": {},
   "cell_type": "code",
   "outputs": [],
   "execution_count": null,
   "source": [
    "if torch.cuda.is_available():\n",
    "    device = torch.device(\"cuda\")\n",
    "elif torch.backends.mps.is_available():\n",
    "    device = torch.device(\"mps\")\n",
    "else:\n",
    "    device = torch.device(\"cpu\")"
   ],
   "id": "73385ab2000cf9f6"
  },
  {
   "cell_type": "code",
   "source": [
    "# Load clip model\n",
    "clip_model, preprocess = clip.load(\"ViT-B/32\", device=device)\n",
    "image_dim = clip_model.visual.output_dim\n",
    "\n",
    "# Define super and sub head\n",
    "super_head = nn.Linear(image_dim, 4)\n",
    "sub_head = nn.Linear(image_dim, 88)"
   ],
   "metadata": {
    "colab": {
     "base_uri": "https://localhost:8080/"
    },
    "id": "KwJZ0ct3EV6E",
    "outputId": "a4a854d9-5e2c-4ed7-e8cf-7fff234ea427",
    "ExecuteTime": {
     "end_time": "2025-05-13T10:00:36.771641Z",
     "start_time": "2025-05-13T10:00:32.853008Z"
    }
   },
   "id": "KwJZ0ct3EV6E",
   "outputs": [],
   "execution_count": 423
  },
  {
   "cell_type": "code",
   "source": [
    "generator = torch.Generator().manual_seed(42)\n",
    "\n",
    "# Create train and val split\n",
    "train_dataset = MultiClassImageTrainDataset(combined_df, super_map_df, sub_map_df, combined_dir, transform=preprocess)\n",
    "train_dataset, val_dataset = random_split(train_dataset, [0.9, 0.1], generator=generator)\n",
    "\n",
    "# Create test dataset\n",
    "test_dataset = MultiClassImageTestDataset(super_map_df, sub_map_df, test_img_dir, transform=preprocess)\n",
    "\n",
    "# Create dataloaders\n",
    "batch_size = 32\n",
    "train_loader = DataLoader(train_dataset,\n",
    "                          batch_size=batch_size,\n",
    "                          shuffle=True,\n",
    "\t\t\t\t\t\t  generator=generator)\n",
    "\n",
    "val_loader = DataLoader(val_dataset,\n",
    "                        batch_size=batch_size,\n",
    "                        shuffle=True,\n",
    "\t\t\t\t\t\tgenerator=generator)\n",
    "\n",
    "test_loader = DataLoader(test_dataset,\n",
    "                         batch_size=1,\n",
    "                         shuffle=False)"
   ],
   "metadata": {
    "id": "xe-0ZLRA-2Fh",
    "ExecuteTime": {
     "end_time": "2025-05-13T10:00:37.399875Z",
     "start_time": "2025-05-13T10:00:37.396281Z"
    }
   },
   "id": "xe-0ZLRA-2Fh",
   "outputs": [],
   "execution_count": 424
  },
  {
   "cell_type": "code",
   "id": "ebdf524a-98bf-4d0b-9b63-2b2b7b87daa1",
   "metadata": {
    "id": "ebdf524a-98bf-4d0b-9b63-2b2b7b87daa1",
    "ExecuteTime": {
     "end_time": "2025-05-13T10:00:44.085939Z",
     "start_time": "2025-05-13T10:00:44.074623Z"
    }
   },
   "source": [
    "# Define loss and optimizer\n",
    "adapter = LightWeightAdapter(input_dim=512, hidden_dim=128)\n",
    "\n",
    "criterion = nn.CrossEntropyLoss(label_smoothing=0.1)\n",
    "\n",
    "optimizer = torch.optim.AdamW(\n",
    "    list(adapter.parameters()) +\n",
    "    list(super_head.parameters()) +\n",
    "    list(sub_head.parameters()),\n",
    "    lr=2e-4,\n",
    "    weight_decay=0.01\n",
    ")\n",
    "\n",
    "trainer = DualHeadCLIP(\n",
    "    clip_model=clip_model,\n",
    "    adapter = adapter,\n",
    "    super_head = super_head,\n",
    "    sub_head = sub_head,\n",
    "    criterion=criterion,\n",
    "    optimizer=optimizer,\n",
    "    train_loader=train_loader,\n",
    "    val_loader=val_loader,\n",
    "    test_loader=test_loader,\n",
    "\tdevice=device\n",
    ")"
   ],
   "outputs": [],
   "execution_count": 425
  },
  {
   "cell_type": "code",
   "id": "7941c289-d9b1-4714-b788-898b3b889f58",
   "metadata": {
    "colab": {
     "base_uri": "https://localhost:8080/"
    },
    "id": "7941c289-d9b1-4714-b788-898b3b889f58",
    "outputId": "845e24c1-89b4-4342-faab-827b7c4fe2b1",
    "ExecuteTime": {
     "end_time": "2025-05-13T10:09:52.751198Z",
     "start_time": "2025-05-13T10:00:46.080443Z"
    }
   },
   "source": [
    "# Training loop\n",
    "for epoch in range(20):\n",
    "    print(f'Epoch {epoch+1}')\n",
    "    trainer.train_epoch()\n",
    "    trainer.validate_epoch()\n",
    "    print('')\n",
    "\n",
    "print('Finished Training')"
   ],
   "outputs": [
    {
     "name": "stdout",
     "output_type": "stream",
     "text": [
      "Epoch 1\n"
     ]
    },
    {
     "name": "stderr",
     "output_type": "stream",
     "text": [
      "Training: 100%|██████████| 194/194 [00:25<00:00,  7.59it/s]\n"
     ]
    },
    {
     "name": "stdout",
     "output_type": "stream",
     "text": [
      "Training loss: 4.170\n"
     ]
    },
    {
     "name": "stderr",
     "output_type": "stream",
     "text": [
      "Validating: 100%|██████████| 22/22 [00:02<00:00,  7.41it/s]\n"
     ]
    },
    {
     "name": "stdout",
     "output_type": "stream",
     "text": [
      "Validation loss: 3.274\n",
      "Validation superclass acc: 99.27 %\n",
      "Validation subclass acc: 35.17 %\n",
      "\n",
      "Epoch 2\n"
     ]
    },
    {
     "name": "stderr",
     "output_type": "stream",
     "text": [
      "Training: 100%|██████████| 194/194 [00:24<00:00,  7.91it/s]\n"
     ]
    },
    {
     "name": "stdout",
     "output_type": "stream",
     "text": [
      "Training loss: 2.764\n"
     ]
    },
    {
     "name": "stderr",
     "output_type": "stream",
     "text": [
      "Validating: 100%|██████████| 22/22 [00:02<00:00,  7.46it/s]\n"
     ]
    },
    {
     "name": "stdout",
     "output_type": "stream",
     "text": [
      "Validation loss: 2.330\n",
      "Validation superclass acc: 98.84 %\n",
      "Validation subclass acc: 74.27 %\n",
      "\n",
      "Epoch 3\n"
     ]
    },
    {
     "name": "stderr",
     "output_type": "stream",
     "text": [
      "Training: 100%|██████████| 194/194 [00:26<00:00,  7.30it/s]\n"
     ]
    },
    {
     "name": "stdout",
     "output_type": "stream",
     "text": [
      "Training loss: 2.098\n"
     ]
    },
    {
     "name": "stderr",
     "output_type": "stream",
     "text": [
      "Validating: 100%|██████████| 22/22 [00:02<00:00,  8.36it/s]\n"
     ]
    },
    {
     "name": "stdout",
     "output_type": "stream",
     "text": [
      "Validation loss: 1.939\n",
      "Validation superclass acc: 98.98 %\n",
      "Validation subclass acc: 86.19 %\n",
      "\n",
      "Epoch 4\n"
     ]
    },
    {
     "name": "stderr",
     "output_type": "stream",
     "text": [
      "Training: 100%|██████████| 194/194 [00:23<00:00,  8.25it/s]\n"
     ]
    },
    {
     "name": "stdout",
     "output_type": "stream",
     "text": [
      "Training loss: 1.834\n"
     ]
    },
    {
     "name": "stderr",
     "output_type": "stream",
     "text": [
      "Validating: 100%|██████████| 22/22 [00:02<00:00,  7.94it/s]\n"
     ]
    },
    {
     "name": "stdout",
     "output_type": "stream",
     "text": [
      "Validation loss: 1.775\n",
      "Validation superclass acc: 98.98 %\n",
      "Validation subclass acc: 88.08 %\n",
      "\n",
      "Epoch 5\n"
     ]
    },
    {
     "name": "stderr",
     "output_type": "stream",
     "text": [
      "Training: 100%|██████████| 194/194 [00:25<00:00,  7.69it/s]\n"
     ]
    },
    {
     "name": "stdout",
     "output_type": "stream",
     "text": [
      "Training loss: 1.719\n"
     ]
    },
    {
     "name": "stderr",
     "output_type": "stream",
     "text": [
      "Validating: 100%|██████████| 22/22 [00:02<00:00,  8.19it/s]\n"
     ]
    },
    {
     "name": "stdout",
     "output_type": "stream",
     "text": [
      "Validation loss: 1.707\n",
      "Validation superclass acc: 98.98 %\n",
      "Validation subclass acc: 89.68 %\n",
      "\n",
      "Epoch 6\n"
     ]
    },
    {
     "name": "stderr",
     "output_type": "stream",
     "text": [
      "Training: 100%|██████████| 194/194 [00:25<00:00,  7.66it/s]\n"
     ]
    },
    {
     "name": "stdout",
     "output_type": "stream",
     "text": [
      "Training loss: 1.648\n"
     ]
    },
    {
     "name": "stderr",
     "output_type": "stream",
     "text": [
      "Validating: 100%|██████████| 22/22 [00:02<00:00,  8.10it/s]\n"
     ]
    },
    {
     "name": "stdout",
     "output_type": "stream",
     "text": [
      "Validation loss: 1.645\n",
      "Validation superclass acc: 98.98 %\n",
      "Validation subclass acc: 90.84 %\n",
      "\n",
      "Epoch 7\n"
     ]
    },
    {
     "name": "stderr",
     "output_type": "stream",
     "text": [
      "Training: 100%|██████████| 194/194 [00:24<00:00,  7.77it/s]\n"
     ]
    },
    {
     "name": "stdout",
     "output_type": "stream",
     "text": [
      "Training loss: 1.601\n"
     ]
    },
    {
     "name": "stderr",
     "output_type": "stream",
     "text": [
      "Validating: 100%|██████████| 22/22 [00:02<00:00,  7.78it/s]\n"
     ]
    },
    {
     "name": "stdout",
     "output_type": "stream",
     "text": [
      "Validation loss: 1.614\n",
      "Validation superclass acc: 99.13 %\n",
      "Validation subclass acc: 90.99 %\n",
      "\n",
      "Epoch 8\n"
     ]
    },
    {
     "name": "stderr",
     "output_type": "stream",
     "text": [
      "Training: 100%|██████████| 194/194 [00:24<00:00,  7.88it/s]\n"
     ]
    },
    {
     "name": "stdout",
     "output_type": "stream",
     "text": [
      "Training loss: 1.564\n"
     ]
    },
    {
     "name": "stderr",
     "output_type": "stream",
     "text": [
      "Validating: 100%|██████████| 22/22 [00:02<00:00,  7.96it/s]\n"
     ]
    },
    {
     "name": "stdout",
     "output_type": "stream",
     "text": [
      "Validation loss: 1.588\n",
      "Validation superclass acc: 99.13 %\n",
      "Validation subclass acc: 90.99 %\n",
      "\n",
      "Epoch 9\n"
     ]
    },
    {
     "name": "stderr",
     "output_type": "stream",
     "text": [
      "Training: 100%|██████████| 194/194 [00:25<00:00,  7.73it/s]\n"
     ]
    },
    {
     "name": "stdout",
     "output_type": "stream",
     "text": [
      "Training loss: 1.537\n"
     ]
    },
    {
     "name": "stderr",
     "output_type": "stream",
     "text": [
      "Validating: 100%|██████████| 22/22 [00:02<00:00,  8.07it/s]\n"
     ]
    },
    {
     "name": "stdout",
     "output_type": "stream",
     "text": [
      "Validation loss: 1.565\n",
      "Validation superclass acc: 99.13 %\n",
      "Validation subclass acc: 91.72 %\n",
      "\n",
      "Epoch 10\n"
     ]
    },
    {
     "name": "stderr",
     "output_type": "stream",
     "text": [
      "Training: 100%|██████████| 194/194 [00:24<00:00,  7.83it/s]\n"
     ]
    },
    {
     "name": "stdout",
     "output_type": "stream",
     "text": [
      "Training loss: 1.513\n"
     ]
    },
    {
     "name": "stderr",
     "output_type": "stream",
     "text": [
      "Validating: 100%|██████████| 22/22 [00:02<00:00,  8.11it/s]\n"
     ]
    },
    {
     "name": "stdout",
     "output_type": "stream",
     "text": [
      "Validation loss: 1.555\n",
      "Validation superclass acc: 99.13 %\n",
      "Validation subclass acc: 91.86 %\n",
      "\n",
      "Epoch 11\n"
     ]
    },
    {
     "name": "stderr",
     "output_type": "stream",
     "text": [
      "Training: 100%|██████████| 194/194 [00:24<00:00,  7.87it/s]\n"
     ]
    },
    {
     "name": "stdout",
     "output_type": "stream",
     "text": [
      "Training loss: 1.492\n"
     ]
    },
    {
     "name": "stderr",
     "output_type": "stream",
     "text": [
      "Validating: 100%|██████████| 22/22 [00:02<00:00,  8.37it/s]\n"
     ]
    },
    {
     "name": "stdout",
     "output_type": "stream",
     "text": [
      "Validation loss: 1.536\n",
      "Validation superclass acc: 99.27 %\n",
      "Validation subclass acc: 92.15 %\n",
      "\n",
      "Epoch 12\n"
     ]
    },
    {
     "name": "stderr",
     "output_type": "stream",
     "text": [
      "Training: 100%|██████████| 194/194 [00:24<00:00,  7.93it/s]\n"
     ]
    },
    {
     "name": "stdout",
     "output_type": "stream",
     "text": [
      "Training loss: 1.475\n"
     ]
    },
    {
     "name": "stderr",
     "output_type": "stream",
     "text": [
      "Validating: 100%|██████████| 22/22 [00:02<00:00,  7.95it/s]\n"
     ]
    },
    {
     "name": "stdout",
     "output_type": "stream",
     "text": [
      "Validation loss: 1.518\n",
      "Validation superclass acc: 99.13 %\n",
      "Validation subclass acc: 92.30 %\n",
      "\n",
      "Epoch 13\n"
     ]
    },
    {
     "name": "stderr",
     "output_type": "stream",
     "text": [
      "Training: 100%|██████████| 194/194 [00:24<00:00,  7.99it/s]\n"
     ]
    },
    {
     "name": "stdout",
     "output_type": "stream",
     "text": [
      "Training loss: 1.459\n"
     ]
    },
    {
     "name": "stderr",
     "output_type": "stream",
     "text": [
      "Validating: 100%|██████████| 22/22 [00:02<00:00,  8.14it/s]\n"
     ]
    },
    {
     "name": "stdout",
     "output_type": "stream",
     "text": [
      "Validation loss: 1.511\n",
      "Validation superclass acc: 99.27 %\n",
      "Validation subclass acc: 92.73 %\n",
      "\n",
      "Epoch 14\n"
     ]
    },
    {
     "name": "stderr",
     "output_type": "stream",
     "text": [
      "Training: 100%|██████████| 194/194 [00:24<00:00,  7.98it/s]\n"
     ]
    },
    {
     "name": "stdout",
     "output_type": "stream",
     "text": [
      "Training loss: 1.444\n"
     ]
    },
    {
     "name": "stderr",
     "output_type": "stream",
     "text": [
      "Validating: 100%|██████████| 22/22 [00:02<00:00,  8.31it/s]\n"
     ]
    },
    {
     "name": "stdout",
     "output_type": "stream",
     "text": [
      "Validation loss: 1.497\n",
      "Validation superclass acc: 99.13 %\n",
      "Validation subclass acc: 92.30 %\n",
      "\n",
      "Epoch 15\n"
     ]
    },
    {
     "name": "stderr",
     "output_type": "stream",
     "text": [
      "Training: 100%|██████████| 194/194 [00:23<00:00,  8.16it/s]\n"
     ]
    },
    {
     "name": "stdout",
     "output_type": "stream",
     "text": [
      "Training loss: 1.431\n"
     ]
    },
    {
     "name": "stderr",
     "output_type": "stream",
     "text": [
      "Validating: 100%|██████████| 22/22 [00:02<00:00,  8.45it/s]\n"
     ]
    },
    {
     "name": "stdout",
     "output_type": "stream",
     "text": [
      "Validation loss: 1.487\n",
      "Validation superclass acc: 99.27 %\n",
      "Validation subclass acc: 93.46 %\n",
      "\n",
      "Epoch 16\n"
     ]
    },
    {
     "name": "stderr",
     "output_type": "stream",
     "text": [
      "Training: 100%|██████████| 194/194 [00:23<00:00,  8.19it/s]\n"
     ]
    },
    {
     "name": "stdout",
     "output_type": "stream",
     "text": [
      "Training loss: 1.418\n"
     ]
    },
    {
     "name": "stderr",
     "output_type": "stream",
     "text": [
      "Validating: 100%|██████████| 22/22 [00:02<00:00,  8.32it/s]\n"
     ]
    },
    {
     "name": "stdout",
     "output_type": "stream",
     "text": [
      "Validation loss: 1.479\n",
      "Validation superclass acc: 99.42 %\n",
      "Validation subclass acc: 92.59 %\n",
      "\n",
      "Epoch 17\n"
     ]
    },
    {
     "name": "stderr",
     "output_type": "stream",
     "text": [
      "Training: 100%|██████████| 194/194 [00:23<00:00,  8.20it/s]\n"
     ]
    },
    {
     "name": "stdout",
     "output_type": "stream",
     "text": [
      "Training loss: 1.408\n"
     ]
    },
    {
     "name": "stderr",
     "output_type": "stream",
     "text": [
      "Validating: 100%|██████████| 22/22 [00:02<00:00,  7.65it/s]\n"
     ]
    },
    {
     "name": "stdout",
     "output_type": "stream",
     "text": [
      "Validation loss: 1.467\n",
      "Validation superclass acc: 99.13 %\n",
      "Validation subclass acc: 93.17 %\n",
      "\n",
      "Epoch 18\n"
     ]
    },
    {
     "name": "stderr",
     "output_type": "stream",
     "text": [
      "Training: 100%|██████████| 194/194 [00:24<00:00,  7.92it/s]\n"
     ]
    },
    {
     "name": "stdout",
     "output_type": "stream",
     "text": [
      "Training loss: 1.398\n"
     ]
    },
    {
     "name": "stderr",
     "output_type": "stream",
     "text": [
      "Validating: 100%|██████████| 22/22 [00:02<00:00,  7.92it/s]\n"
     ]
    },
    {
     "name": "stdout",
     "output_type": "stream",
     "text": [
      "Validation loss: 1.472\n",
      "Validation superclass acc: 99.27 %\n",
      "Validation subclass acc: 92.88 %\n",
      "\n",
      "Epoch 19\n"
     ]
    },
    {
     "name": "stderr",
     "output_type": "stream",
     "text": [
      "Training: 100%|██████████| 194/194 [00:24<00:00,  7.83it/s]\n"
     ]
    },
    {
     "name": "stdout",
     "output_type": "stream",
     "text": [
      "Training loss: 1.386\n"
     ]
    },
    {
     "name": "stderr",
     "output_type": "stream",
     "text": [
      "Validating: 100%|██████████| 22/22 [00:02<00:00,  8.39it/s]\n"
     ]
    },
    {
     "name": "stdout",
     "output_type": "stream",
     "text": [
      "Validation loss: 1.458\n",
      "Validation superclass acc: 99.27 %\n",
      "Validation subclass acc: 93.46 %\n",
      "\n",
      "Epoch 20\n"
     ]
    },
    {
     "name": "stderr",
     "output_type": "stream",
     "text": [
      "Training: 100%|██████████| 194/194 [00:23<00:00,  8.24it/s]\n"
     ]
    },
    {
     "name": "stdout",
     "output_type": "stream",
     "text": [
      "Training loss: 1.377\n"
     ]
    },
    {
     "name": "stderr",
     "output_type": "stream",
     "text": [
      "Validating: 100%|██████████| 22/22 [00:02<00:00,  8.16it/s]"
     ]
    },
    {
     "name": "stdout",
     "output_type": "stream",
     "text": [
      "Validation loss: 1.455\n",
      "Validation superclass acc: 99.42 %\n",
      "Validation subclass acc: 93.75 %\n",
      "\n",
      "Finished Training\n"
     ]
    },
    {
     "name": "stderr",
     "output_type": "stream",
     "text": [
      "\n"
     ]
    }
   ],
   "execution_count": 426
  },
  {
   "cell_type": "code",
   "id": "61d77cbe-3ba1-46e9-9be1-208b9cabab0b",
   "metadata": {
    "id": "61d77cbe-3ba1-46e9-9be1-208b9cabab0b",
    "colab": {
     "base_uri": "https://localhost:8080/"
    },
    "outputId": "45c0fb50-b94c-4f18-9a91-b8bba8fdd9d3",
    "ExecuteTime": {
     "end_time": "2025-05-13T10:49:21.185496Z",
     "start_time": "2025-05-13T10:46:34.520972Z"
    }
   },
   "source": [
    "test_predictions = test_dualheadclip(\n",
    "    model=trainer,\n",
    "    test_loader=test_loader,\n",
    "    SUPER_THRESH=0.84,\n",
    "    SUB_THRESH=0.47,\n",
    "    save_to_csv=True,\n",
    "    return_predictions=True\n",
    ")"
   ],
   "outputs": [
    {
     "name": "stderr",
     "output_type": "stream",
     "text": [
      "Testing: 100%|██████████| 11180/11180 [02:46<00:00, 67.10it/s]\n"
     ]
    }
   ],
   "execution_count": 442
  },
  {
   "metadata": {
    "ExecuteTime": {
     "end_time": "2025-05-13T11:21:32.519579Z",
     "start_time": "2025-05-13T11:21:32.485953Z"
    }
   },
   "cell_type": "code",
   "source": [
    "test_ann_df = pd.read_csv('./test_predictions/DualHeadCLIP_test_predictions.csv')\n",
    "\n",
    "sup_matches = test_ann_df[test_ann_df['superclass_index'] == 3]\n",
    "sub_matches = test_ann_df[test_ann_df['subclass_index'] == 87]\n",
    "\n",
    "print(\"Matching indices:\", len(sup_matches.index.tolist()))\n",
    "print(\"Matching indices:\", len(sub_matches.index.tolist()))\n"
   ],
   "id": "899fa3aadc5a5b55",
   "outputs": [
    {
     "name": "stdout",
     "output_type": "stream",
     "text": [
      "Matching indices: 3106\n",
      "Matching indices: 7385\n"
     ]
    }
   ],
   "execution_count": 444
  },
  {
   "cell_type": "code",
   "execution_count": null,
   "id": "4ed6dd55-94ab-41a9-b09c-08d7b1ae0fe6",
   "metadata": {
    "id": "4ed6dd55-94ab-41a9-b09c-08d7b1ae0fe6"
   },
   "outputs": [],
   "source": []
  }
 ],
 "metadata": {
  "kernelspec": {
   "display_name": "Python 3",
   "name": "python3"
  },
  "language_info": {
   "codemirror_mode": {
    "name": "ipython",
    "version": 3
   },
   "file_extension": ".py",
   "mimetype": "text/x-python",
   "name": "python",
   "nbconvert_exporter": "python",
   "pygments_lexer": "ipython3",
   "version": "3.10.13"
  },
  "colab": {
   "provenance": [],
   "gpuType": "T4"
  },
  "accelerator": "GPU"
 },
 "nbformat": 4,
 "nbformat_minor": 5
}
